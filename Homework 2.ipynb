{
  "cells": [
    {
      "cell_type": "markdown",
      "metadata": {
        "id": "1MfmoeaiY7Sb"
      },
      "source": [
        "# **Homework 2 (HW2)**\n",
        "\n",
        "## **Deadline:** Wednesday, the 19th, 11:59pm\n",
        "\n",
        "### **General recommendations:** There are still no credible ways to check for AI-generated solutions, therefore you are free to use LLM based chatbots. Nevertheless, for many questions you are expected to take decisions on some steps of the analysis the way humans do. Also, I have already tried to let ChatGPT solve this homework and what I got was not wrong, but rarely was the right solutions I am expecting from you. I ask you not to use any rolling window out-of-the-box functions for a specific reason i.e., you don't often know what it is under the hood of those. That is very dangerous, you should always be in full control.\n",
        "\n",
        "The goals of this homework is to let you play :) with:\n",
        "1. Preprocessing of large financial datasets\n",
        "2. Training and testing out-of-the-box models\n",
        "3. Comparing the results of the out-of-the-box models with your own functions\n",
        "4. Carrying out a meaningful analysis of your results"
      ]
    },
    {
      "cell_type": "code",
      "source": [
        "!pip install wrds"
      ],
      "metadata": {
        "colab": {
          "base_uri": "https://localhost:8080/"
        },
        "id": "W-p78B-5Z-Ek",
        "outputId": "81d0cea0-448e-437a-9434-e31f75bd2c04"
      },
      "execution_count": 2,
      "outputs": [
        {
          "output_type": "stream",
          "name": "stdout",
          "text": [
            "Collecting wrds\n",
            "  Downloading wrds-3.3.0-py3-none-any.whl.metadata (5.7 kB)\n",
            "Requirement already satisfied: packaging<=24.2 in /usr/local/lib/python3.11/dist-packages (from wrds) (24.2)\n",
            "Requirement already satisfied: pandas<2.3,>=2.2 in /usr/local/lib/python3.11/dist-packages (from wrds) (2.2.2)\n",
            "Collecting psycopg2-binary<2.10,>=2.9 (from wrds)\n",
            "  Downloading psycopg2_binary-2.9.10-cp311-cp311-manylinux_2_17_x86_64.manylinux2014_x86_64.whl.metadata (4.9 kB)\n",
            "Requirement already satisfied: sqlalchemy<2.1,>=2 in /usr/local/lib/python3.11/dist-packages (from wrds) (2.0.39)\n",
            "Requirement already satisfied: numpy>=1.23.2 in /usr/local/lib/python3.11/dist-packages (from pandas<2.3,>=2.2->wrds) (1.26.4)\n",
            "Requirement already satisfied: python-dateutil>=2.8.2 in /usr/local/lib/python3.11/dist-packages (from pandas<2.3,>=2.2->wrds) (2.8.2)\n",
            "Requirement already satisfied: pytz>=2020.1 in /usr/local/lib/python3.11/dist-packages (from pandas<2.3,>=2.2->wrds) (2025.1)\n",
            "Requirement already satisfied: tzdata>=2022.7 in /usr/local/lib/python3.11/dist-packages (from pandas<2.3,>=2.2->wrds) (2025.1)\n",
            "Requirement already satisfied: greenlet!=0.4.17 in /usr/local/lib/python3.11/dist-packages (from sqlalchemy<2.1,>=2->wrds) (3.1.1)\n",
            "Requirement already satisfied: typing-extensions>=4.6.0 in /usr/local/lib/python3.11/dist-packages (from sqlalchemy<2.1,>=2->wrds) (4.12.2)\n",
            "Requirement already satisfied: six>=1.5 in /usr/local/lib/python3.11/dist-packages (from python-dateutil>=2.8.2->pandas<2.3,>=2.2->wrds) (1.17.0)\n",
            "Downloading wrds-3.3.0-py3-none-any.whl (13 kB)\n",
            "Downloading psycopg2_binary-2.9.10-cp311-cp311-manylinux_2_17_x86_64.manylinux2014_x86_64.whl (3.0 MB)\n",
            "\u001b[2K   \u001b[90m━━━━━━━━━━━━━━━━━━━━━━━━━━━━━━━━━━━━━━━━\u001b[0m \u001b[32m3.0/3.0 MB\u001b[0m \u001b[31m23.9 MB/s\u001b[0m eta \u001b[36m0:00:00\u001b[0m\n",
            "\u001b[?25hInstalling collected packages: psycopg2-binary, wrds\n",
            "Successfully installed psycopg2-binary-2.9.10 wrds-3.3.0\n"
          ]
        }
      ]
    },
    {
      "cell_type": "markdown",
      "metadata": {
        "id": "jt-RIjqXY7Se"
      },
      "source": [
        "## **1. Data Wrangling**\n",
        "\n",
        "### **0. Preliminaries**\n",
        "\n",
        "- Fix random seed for reproducibility and import the needed libraries.  \n",
        "\n",
        "**Context:** We want to begin analysing the stock market! How to start? We should get our hands on a financial dataset, with information on stock characteristics. Please go [here](https://jkpfactors.com/stock-char) and download the stocks characteristics for the US for the last forty years. Remember: stock characteristics, not factors...  \n",
        "\n",
        "- Visualize the first rows to get an idea of what kind of variables are.\n",
        "\n",
        "- Column names are quite mysterious. Merge them with the information at ([this website](https://github.com/bkelly-lab/ReplicationCrisis/tree/master)).  \n"
      ]
    },
    {
      "cell_type": "code",
      "source": [
        "import wrds\n",
        "import pandas as pd\n",
        "import numpy as np\n",
        "import matplotlib.pyplot as plt\n",
        "import seaborn as sns\n",
        "import torch\n",
        "import random\n",
        "import pandas as pd\n",
        "\n",
        "pd.set_option(\"display.max_rows\", None)  # Show all rows\n",
        "pd.set_option(\"display.max_columns\", None)  # Show all columns\n",
        "pd.set_option(\"display.max_colwidth\", None)  # Show full content of each cell\n",
        "\n",
        "\n",
        "def set_seed(seed_value=42):\n",
        "    \"\"\"Set seed for reproducibility.\"\"\"\n",
        "    np.random.seed(seed_value)  # Set NumPy seed\n",
        "    torch.manual_seed(seed_value)  # Set PyTorch seed\n",
        "    random.seed(seed_value)  # Set Python random seed\n",
        "\n",
        "\n",
        "wrds_db = wrds.Connection(wrds_username=\"santiag0\")\n"
      ],
      "metadata": {
        "colab": {
          "base_uri": "https://localhost:8080/"
        },
        "id": "5YhjAmdAZvoA",
        "outputId": "a5f5e587-7f1c-49f7-efcf-efcf570bfac4"
      },
      "execution_count": 3,
      "outputs": [
        {
          "output_type": "stream",
          "name": "stdout",
          "text": [
            "Enter your WRDS username [santiag0]:santiag0\n",
            "Enter your password:··········\n",
            "WRDS recommends setting up a .pgpass file.\n",
            "Create .pgpass file now [y/n]?: y\n",
            "Created .pgpass file successfully.\n",
            "You can create this file yourself at any time with the create_pgpass_file() function.\n",
            "Loading library list...\n",
            "Done\n"
          ]
        }
      ]
    },
    {
      "cell_type": "code",
      "source": [
        "chars = pd.read_excel('https://github.com/bkelly-lab/ReplicationCrisis/raw/master/GlobalFactors/Factor%20Details.xlsx')\n",
        "chars_rel = chars[chars['abr_jkp'].notna()]['abr_jkp'].tolist()\n",
        "\n",
        "print(chars_rel)\n",
        "\n",
        "sql_query= f\"\"\"\n",
        "          SELECT id, eom, gvkey, permno, size_grp, me, {', '.join(map(str, chars_rel))}\n",
        "                   FROM contrib.global_factor\n",
        "                   WHERE common=1 and exch_main=1 and primary_sec=1 and obs_main=1 and\n",
        "                   excntry='USA' and date >= '2023-01-01'\n",
        "          \"\"\"\n",
        "\n",
        "\n",
        "\n",
        "\n",
        "file_path = 'output.xlsx'\n",
        "data = wrds_db.raw_sql(sql_query)\n",
        "data.to_excel(file_path, index=False)\n",
        "\n",
        "print(data.shape)\n",
        "print(f\"Data saved to {file_path}\")\n",
        "\n"
      ],
      "metadata": {
        "colab": {
          "base_uri": "https://localhost:8080/"
        },
        "id": "ng25uUDLamda",
        "outputId": "be427ffb-cd93-4b73-8922-641cb49622c4"
      },
      "execution_count": 7,
      "outputs": [
        {
          "output_type": "stream",
          "name": "stdout",
          "text": [
            "['niq_su', 'ret_6_1', 'ret_12_1', 'saleq_su', 'tax_gr1a', 'ni_inc8q', 'prc_highprc_252d', 'resff3_6_1', 'resff3_12_1', 'be_me', 'debt_me', 'at_me', 'ret_60_12', 'ni_me', 'fcf_me', 'div12m_me', 'eqpo_me', 'eqnpo_me', 'sale_gr3', 'sale_gr1', 'ebitda_mev', 'sale_me', 'ocf_me', 'ival_me', 'bev_mev', 'netdebt_me', 'eq_dur', 'capex_abn', 'at_gr1', 'ppeinv_gr1a', 'noa_at', 'noa_gr1a', 'lnoa_gr1a', 'capx_gr1', 'capx_gr2', 'capx_gr3', 'chcsho_12m', 'eqnpo_12m', 'debt_gr3', 'inv_gr1', 'inv_gr1a', 'oaccruals_at', 'taccruals_at', 'cowc_gr1a', 'coa_gr1a', 'col_gr1a', 'nncoa_gr1a', 'ncoa_gr1a', 'ncol_gr1a', 'nfna_gr1a', 'sti_gr1a', 'lti_gr1a', 'fnl_gr1a', 'be_gr1a', 'oaccruals_ni', 'taccruals_ni', 'netis_at', 'eqnetis_at', 'dbnetis_at', 'niq_be', 'niq_be_chg1', 'niq_at', 'niq_at_chg1', 'ebit_bev', 'ebit_sale', 'sale_bev', 'at_turnover', 'gp_at', 'gp_atl1', 'ope_be', 'ope_bel1', 'op_at', 'op_atl1', 'cop_at', 'cop_atl1', 'f_score', 'o_score', 'z_score', 'pi_nix', 'at_be', 'saleq_gr1', 'rd_me', 'rd_sale', 'opex_at', 'emp_gr1', 'rd5_at', 'age', 'dsale_dinv', 'dsale_drec', 'dgp_dsale', 'dsale_dsga', 'sale_emp_gr1', 'tangibility', 'kz_index', 'ocfq_saleq_std', 'cash_at', 'ni_ar1', 'ni_ivol', 'earnings_variability', 'aliq_at', 'aliq_mat', 'seas_1_1an', 'seas_1_1na', 'seas_2_5an', 'seas_2_5na', 'seas_6_10an', 'seas_6_10na', 'seas_11_15an', 'seas_11_15na', 'seas_16_20an', 'seas_16_20na', 'market_equity', 'ivol_ff3_21d', 'ivol_capm_252d', 'ivol_capm_21d', 'ivol_hxz4_21d', 'rvol_21d', 'beta_60m', 'betabab_1260d', 'beta_dimson_21d', 'turnover_126d', 'turnover_var_126d', 'dolvol_126d', 'dolvol_var_126d', 'prc', 'ami_126d', 'zero_trades_21d', 'zero_trades_126d', 'zero_trades_252d', 'rmax1_21d', 'rskew_21d', 'iskew_capm_21d', 'iskew_ff3_21d', 'iskew_hxz4_21d', 'coskew_21d', 'ret_1_0', 'betadown_252d', 'bidaskhl_21d', 'ret_3_1', 'ret_9_1', 'ret_12_7', 'corr_1260d', 'rmax5_21d', 'rmax5_rvol_21d', 'ni_be', 'ocf_at', 'ocf_at_chg1', 'mispricing_perf', 'mispricing_mgmt', 'qmj', 'qmj_prof', 'qmj_growth', 'qmj_safety']\n",
            "(77223, 159)\n",
            "Data saved to output.xlsx\n"
          ]
        }
      ]
    },
    {
      "cell_type": "code",
      "source": [
        "print(data.loc[0:6])\n"
      ],
      "metadata": {
        "id": "j7nLqZhbhk2S",
        "outputId": "c9a1a102-8bb8-4c5f-aaf2-c4d0751330bd",
        "colab": {
          "base_uri": "https://localhost:8080/"
        }
      },
      "execution_count": 41,
      "outputs": [
        {
          "output_type": "stream",
          "name": "stdout",
          "text": [
            "            id         eom   gvkey  permno size_grp         me    niq_su  \\\n",
            "0  103705602.0  2023-01-31  037056    <NA>     nano   25.66432      <NA>   \n",
            "1  103764302.0  2023-01-31  037643    <NA>    micro  414.39975      <NA>   \n",
            "2  103765002.0  2023-01-31  037650    <NA>    micro     410.55      <NA>   \n",
            "3  103769502.0  2023-01-31  037695    <NA>    micro  260.23275      <NA>   \n",
            "4  103882502.0  2023-01-31  038825    <NA>    micro   294.1125      <NA>   \n",
            "5  132767501.0  2023-01-31  327675    <NA>    small   574.9172  1.457417   \n",
            "6  101760201.0  2023-01-31  017602    <NA>    small   527.6173 -0.266248   \n",
            "\n",
            "    ret_6_1  ret_12_1  saleq_su  tax_gr1a  ni_inc8q  prc_highprc_252d  \\\n",
            "0      <NA>      <NA>      <NA>      <NA>      <NA>              <NA>   \n",
            "1      <NA>      <NA>      <NA>      <NA>      <NA>              <NA>   \n",
            "2      <NA>      <NA>      <NA>      <NA>      <NA>              <NA>   \n",
            "3      <NA>      <NA>      <NA>      <NA>      <NA>              <NA>   \n",
            "4      <NA>      <NA>      <NA>      <NA>      <NA>              <NA>   \n",
            "5      <NA>      <NA>  1.916964       0.0       1.0              <NA>   \n",
            "6  0.421983  0.334575  3.307562  0.000853       8.0              <NA>   \n",
            "\n",
            "   resff3_6_1  resff3_12_1     be_me   debt_me     at_me  ret_60_12     ni_me  \\\n",
            "0        <NA>         <NA>      <NA>      <NA>      <NA>       <NA>      <NA>   \n",
            "1        <NA>         <NA>      <NA>      <NA>      <NA>       <NA>      <NA>   \n",
            "2        <NA>         <NA>      <NA>      <NA>      <NA>       <NA>      <NA>   \n",
            "3        <NA>         <NA>      <NA>      <NA>      <NA>       <NA>      <NA>   \n",
            "4        <NA>         <NA>      <NA>      <NA>      <NA>       <NA>      <NA>   \n",
            "5        <NA>         <NA>  0.648948  1.271752  1.966863       <NA>  0.068808   \n",
            "6    0.854878     0.258898  0.484198  0.460561  6.635766   -0.08574  0.074491   \n",
            "\n",
            "     fcf_me  div12m_me   eqpo_me  eqnpo_me  sale_gr3  sale_gr1  ebitda_mev  \\\n",
            "0      <NA>       <NA>      <NA>      <NA>      <NA>      <NA>        <NA>   \n",
            "1      <NA>       <NA>      <NA>      <NA>      <NA>      <NA>        <NA>   \n",
            "2      <NA>       <NA>      <NA>      <NA>      <NA>      <NA>        <NA>   \n",
            "3      <NA>       <NA>      <NA>      <NA>      <NA>      <NA>        <NA>   \n",
            "4      <NA>       <NA>      <NA>      <NA>      <NA>      <NA>        <NA>   \n",
            "5 -0.227583       <NA>  0.064339  0.064339  0.974305  0.047467    0.068823   \n",
            "6  0.101811   0.030362  0.030298  0.030298 -0.074672  0.028786    0.100274   \n",
            "\n",
            "    sale_me    ocf_me   ival_me   bev_mev  netdebt_me     eq_dur  capex_abn  \\\n",
            "0      <NA>      <NA>      <NA>      <NA>        <NA>       <NA>       <NA>   \n",
            "1      <NA>      <NA>      <NA>      <NA>        <NA>       <NA>       <NA>   \n",
            "2      <NA>      <NA>      <NA>      <NA>        <NA>       <NA>       <NA>   \n",
            "3      <NA>      <NA>      <NA>      <NA>        <NA>       <NA>       <NA>   \n",
            "4      <NA>      <NA>      <NA>      <NA>        <NA>       <NA>       <NA>   \n",
            "5  0.331082  0.075215      <NA>   0.83684    1.151579  15.481668  -0.581711   \n",
            "6  0.231459  0.103863  0.566663  0.626942    0.382633   16.52195       <NA>   \n",
            "\n",
            "     at_gr1  ppeinv_gr1a    noa_at  noa_gr1a  lnoa_gr1a  capx_gr1  capx_gr2  \\\n",
            "0      <NA>         <NA>      <NA>      <NA>       <NA>      <NA>      <NA>   \n",
            "1      <NA>         <NA>      <NA>      <NA>       <NA>      <NA>      <NA>   \n",
            "2      <NA>         <NA>      <NA>      <NA>       <NA>      <NA>      <NA>   \n",
            "3      <NA>         <NA>      <NA>      <NA>       <NA>      <NA>      <NA>   \n",
            "4      <NA>         <NA>      <NA>      <NA>       <NA>      <NA>      <NA>   \n",
            "5  0.044578     0.171484  0.952187  0.120294  -0.143385  9.642025 -0.279233   \n",
            "6  -0.01554         <NA>      <NA>      <NA>   0.000087 -0.598443 -0.388826   \n",
            "\n",
            "   capx_gr3  chcsho_12m  eqnpo_12m  debt_gr3   inv_gr1  inv_gr1a  \\\n",
            "0      <NA>   -0.915467   2.438478      <NA>      <NA>      <NA>   \n",
            "1      <NA>         0.0  -0.035799      <NA>      <NA>      <NA>   \n",
            "2      <NA>         0.0   -0.04512      <NA>      <NA>      <NA>   \n",
            "3      <NA>   -0.068768   0.034532      <NA>      <NA>      <NA>   \n",
            "4      <NA>         0.0  -0.041922      <NA>      <NA>      <NA>   \n",
            "5 -0.678241         0.0  -0.701189  0.100728  1.029986  0.009788   \n",
            "6      <NA>   -0.022895   0.060661      1.43      -1.0 -0.000721   \n",
            "\n",
            "   oaccruals_at  taccruals_at  cowc_gr1a  coa_gr1a  col_gr1a  nncoa_gr1a  \\\n",
            "0          <NA>          <NA>       <NA>      <NA>      <NA>        <NA>   \n",
            "1          <NA>          <NA>       <NA>      <NA>      <NA>        <NA>   \n",
            "2          <NA>          <NA>       <NA>      <NA>      <NA>        <NA>   \n",
            "3          <NA>          <NA>       <NA>      <NA>      <NA>        <NA>   \n",
            "4          <NA>          <NA>       <NA>      <NA>      <NA>        <NA>   \n",
            "5     -0.003257     -0.144511  -0.009648 -0.123795 -0.114147    0.124809   \n",
            "6     -0.005145       0.06394       <NA>      <NA>      <NA>        <NA>   \n",
            "\n",
            "   ncoa_gr1a  ncol_gr1a  nfna_gr1a  sti_gr1a  lti_gr1a  fnl_gr1a   be_gr1a  \\\n",
            "0       <NA>       <NA>       <NA>      <NA>      <NA>      <NA>      <NA>   \n",
            "1       <NA>       <NA>       <NA>      <NA>      <NA>      <NA>      <NA>   \n",
            "2       <NA>       <NA>       <NA>      <NA>      <NA>      <NA>      <NA>   \n",
            "3       <NA>       <NA>       <NA>      <NA>      <NA>      <NA>      <NA>   \n",
            "4       <NA>       <NA>       <NA>      <NA>      <NA>      <NA>      <NA>   \n",
            "5    0.12477  -0.000038  -0.141254      <NA> -0.001024   0.14023   0.01663   \n",
            "6       <NA>       <NA>  -0.005141 -0.040218  0.123108  0.005141 -0.037876   \n",
            "\n",
            "   oaccruals_ni  taccruals_ni  netis_at  eqnetis_at  dbnetis_at    niq_be  \\\n",
            "0          <NA>          <NA>      <NA>        <NA>        <NA>      <NA>   \n",
            "1          <NA>          <NA>      <NA>        <NA>        <NA>      <NA>   \n",
            "2          <NA>          <NA>      <NA>        <NA>        <NA>      <NA>   \n",
            "3          <NA>          <NA>      <NA>        <NA>        <NA>      <NA>   \n",
            "4          <NA>          <NA>      <NA>        <NA>        <NA>      <NA>   \n",
            "5     -0.093111      -4.13082  0.014368   -0.009928    0.024295  0.050489   \n",
            "6     -0.515277      6.403263  0.013498   -0.000308    0.005141  0.038253   \n",
            "\n",
            "   niq_be_chg1    niq_at  niq_at_chg1  ebit_bev  ebit_sale  sale_bev  \\\n",
            "0         <NA>      <NA>         <NA>      <NA>       <NA>      <NA>   \n",
            "1         <NA>      <NA>         <NA>      <NA>       <NA>      <NA>   \n",
            "2         <NA>      <NA>         <NA>      <NA>       <NA>      <NA>   \n",
            "3         <NA>      <NA>         <NA>      <NA>       <NA>      <NA>   \n",
            "4         <NA>      <NA>         <NA>      <NA>       <NA>      <NA>   \n",
            "5     0.063248  0.016195     0.020263  0.050726   0.275866   0.18388   \n",
            "6     0.014616  0.003106     0.000509  0.101076   0.512293  0.267018   \n",
            "\n",
            "   at_turnover     gp_at   gp_atl1    ope_be  ope_bel1     op_at   op_atl1  \\\n",
            "0         <NA>      <NA>      <NA>      <NA>      <NA>      <NA>      <NA>   \n",
            "1         <NA>      <NA>      <NA>      <NA>      <NA>      <NA>      <NA>   \n",
            "2         <NA>      <NA>      <NA>      <NA>      <NA>      <NA>      <NA>   \n",
            "3         <NA>      <NA>      <NA>      <NA>      <NA>      <NA>      <NA>   \n",
            "4         <NA>      <NA>      <NA>      <NA>      <NA>      <NA>      <NA>   \n",
            "5        0.172  0.084824  0.088605  0.171816  0.180935  0.075286  0.078642   \n",
            "6     0.034607  0.036091   0.03553      <NA>      <NA>  0.020893  0.020568   \n",
            "\n",
            "     cop_at  cop_atl1  f_score   o_score  z_score    pi_nix      at_be  \\\n",
            "0      <NA>      <NA>     <NA>      <NA>     <NA>      <NA>       <NA>   \n",
            "1      <NA>      <NA>     <NA>      <NA>     <NA>      <NA>       <NA>   \n",
            "2      <NA>      <NA>     <NA>      <NA>     <NA>      <NA>       <NA>   \n",
            "3      <NA>      <NA>     <NA>      <NA>     <NA>      <NA>       <NA>   \n",
            "4      <NA>      <NA>     <NA>      <NA>     <NA>      <NA>       <NA>   \n",
            "5  0.078544  0.082045      7.0 -0.927618  0.91279       1.0    3.03085   \n",
            "6  0.022731  0.023984     <NA>      <NA>     <NA>  1.183548  13.704667   \n",
            "\n",
            "   saleq_gr1  rd_me  rd_sale   opex_at  emp_gr1  rd5_at    age  dsale_dinv  \\\n",
            "0       <NA>   <NA>     <NA>      <NA>     <NA>    <NA>   37.0        <NA>   \n",
            "1       <NA>   <NA>     <NA>      <NA>     <NA>    <NA>   25.0        <NA>   \n",
            "2       <NA>   <NA>     <NA>      <NA>     <NA>    <NA>   25.0        <NA>   \n",
            "3       <NA>   <NA>     <NA>      <NA>     <NA>    <NA>   25.0        <NA>   \n",
            "4       <NA>   <NA>     <NA>      <NA>     <NA>    <NA>   25.0        <NA>   \n",
            "5   0.789615   <NA>     <NA>  0.093045     <NA>    <NA>  469.0   -1.679065   \n",
            "6   0.121842   <NA>     <NA>  0.013987     <NA>    <NA>  438.0    1.019638   \n",
            "\n",
            "   dsale_drec  dgp_dsale  dsale_dsga  sale_emp_gr1  tangibility   kz_index  \\\n",
            "0        <NA>       <NA>        <NA>          <NA>         <NA>       <NA>   \n",
            "1        <NA>       <NA>        <NA>          <NA>         <NA>       <NA>   \n",
            "2        <NA>       <NA>        <NA>          <NA>         <NA>       <NA>   \n",
            "3        <NA>       <NA>        <NA>          <NA>         <NA>       <NA>   \n",
            "4        <NA>       <NA>        <NA>          <NA>         <NA>       <NA>   \n",
            "5   -0.437336  -0.166102   -0.072642          <NA>     0.617164   2.014121   \n",
            "6    0.058215   0.235856   -0.026012          <NA>         <NA> -12.512302   \n",
            "\n",
            "   ocfq_saleq_std   cash_at    ni_ar1   ni_ivol  earnings_variability  \\\n",
            "0            <NA>      <NA>      <NA>      <NA>                  <NA>   \n",
            "1            <NA>      <NA>      <NA>      <NA>                  <NA>   \n",
            "2            <NA>      <NA>      <NA>      <NA>                  <NA>   \n",
            "3            <NA>      <NA>      <NA>      <NA>                  <NA>   \n",
            "4            <NA>      <NA>      <NA>      <NA>                  <NA>   \n",
            "5        0.216633  0.061098      <NA>      <NA>                  <NA>   \n",
            "6            <NA>  0.011744 -0.312084  0.002014                  <NA>   \n",
            "\n",
            "    aliq_at  aliq_mat  seas_1_1an  seas_1_1na  seas_2_5an  seas_2_5na  \\\n",
            "0      <NA>      <NA>        <NA>        <NA>        <NA>        <NA>   \n",
            "1      <NA>      <NA>        <NA>        <NA>        <NA>        <NA>   \n",
            "2      <NA>      <NA>        <NA>        <NA>        <NA>        <NA>   \n",
            "3      <NA>      <NA>        <NA>        <NA>        <NA>        <NA>   \n",
            "4      <NA>      <NA>        <NA>        <NA>        <NA>        <NA>   \n",
            "5  0.565994  0.609309        <NA>        <NA>        <NA>        <NA>   \n",
            "6      <NA>      <NA>     0.02111    0.027068    0.003816    -0.00174   \n",
            "\n",
            "   seas_6_10an  seas_6_10na  seas_11_15an  seas_11_15na  seas_16_20an  \\\n",
            "0         <NA>         <NA>          <NA>          <NA>          <NA>   \n",
            "1         <NA>         <NA>          <NA>          <NA>          <NA>   \n",
            "2         <NA>         <NA>          <NA>          <NA>          <NA>   \n",
            "3         <NA>         <NA>          <NA>          <NA>          <NA>   \n",
            "4         <NA>         <NA>          <NA>          <NA>          <NA>   \n",
            "5         <NA>         <NA>          <NA>          <NA>          <NA>   \n",
            "6     0.006554      0.00722      0.006372      0.013896      0.027751   \n",
            "\n",
            "   seas_16_20na  market_equity  ivol_ff3_21d  ivol_capm_252d  ivol_capm_21d  \\\n",
            "0          <NA>       25.66432          <NA>            <NA>           <NA>   \n",
            "1          <NA>      414.39975          <NA>            <NA>           <NA>   \n",
            "2          <NA>         410.55          <NA>            <NA>           <NA>   \n",
            "3          <NA>      260.23275          <NA>            <NA>           <NA>   \n",
            "4          <NA>       294.1125          <NA>            <NA>           <NA>   \n",
            "5          <NA>       574.9172          <NA>            <NA>           <NA>   \n",
            "6     -0.001494       527.6173      0.020051            <NA>       0.021047   \n",
            "\n",
            "   ivol_hxz4_21d  rvol_21d  beta_60m  betabab_1260d  beta_dimson_21d  \\\n",
            "0           <NA>      <NA>      <NA>           <NA>             <NA>   \n",
            "1           <NA>      <NA>      <NA>           <NA>             <NA>   \n",
            "2           <NA>      <NA>      <NA>           <NA>             <NA>   \n",
            "3           <NA>      <NA>      <NA>           <NA>             <NA>   \n",
            "4           <NA>      <NA>      <NA>           <NA>             <NA>   \n",
            "5           <NA>      <NA>      <NA>           <NA>             <NA>   \n",
            "6        0.01873  0.022217  0.115825           <NA>         0.516552   \n",
            "\n",
            "   turnover_126d  turnover_var_126d     dolvol_126d  dolvol_var_126d     prc  \\\n",
            "0       0.003022           2.866933   378001.580839         2.881187   10.12   \n",
            "1       0.003124           2.920235  1279449.086939         2.927798  10.095   \n",
            "2       0.006083           4.325673   2479545.65413         4.350712    10.2   \n",
            "3       0.002854           2.775114   707291.487425         2.765027  10.125   \n",
            "4       0.001703           4.960872    494083.54468         4.986081   10.23   \n",
            "5           <NA>               <NA>            <NA>             <NA>   17.48   \n",
            "6       0.000128           3.004568    62778.568307         3.172752   71.05   \n",
            "\n",
            "   ami_126d  zero_trades_21d  zero_trades_126d  zero_trades_252d  rmax1_21d  \\\n",
            "0      <NA>             <NA>          1.846595          1.064257       <NA>   \n",
            "1      <NA>             <NA>          0.004412          0.004871       <NA>   \n",
            "2      <NA>             <NA>          0.915985          0.794902       <NA>   \n",
            "3      <NA>             <NA>          2.926354          3.343849       <NA>   \n",
            "4      <NA>             <NA>          6.059734           6.08264       <NA>   \n",
            "5      <NA>             <NA>              <NA>              <NA>       <NA>   \n",
            "6  0.782752          3.15909          3.977448          5.196273   0.071913   \n",
            "\n",
            "   rskew_21d  iskew_capm_21d  iskew_ff3_21d  iskew_hxz4_21d  coskew_21d  \\\n",
            "0       <NA>            <NA>           <NA>            <NA>        <NA>   \n",
            "1       <NA>            <NA>           <NA>            <NA>        <NA>   \n",
            "2       <NA>            <NA>           <NA>            <NA>        <NA>   \n",
            "3       <NA>            <NA>           <NA>            <NA>        <NA>   \n",
            "4       <NA>            <NA>           <NA>            <NA>        <NA>   \n",
            "5       <NA>            <NA>           <NA>            <NA>        <NA>   \n",
            "6   1.398152        1.031067       0.910219         0.01526    0.236944   \n",
            "\n",
            "   ret_1_0  betadown_252d  bidaskhl_21d   ret_3_1   ret_9_1  ret_12_7  \\\n",
            "0     <NA>           <NA>          <NA>      <NA>      <NA>      <NA>   \n",
            "1     <NA>           <NA>          <NA>      <NA>      <NA>      <NA>   \n",
            "2     <NA>           <NA>          <NA>      <NA>      <NA>      <NA>   \n",
            "3     <NA>           <NA>          <NA>      <NA>      <NA>      <NA>   \n",
            "4     <NA>           <NA>          <NA>      <NA>      <NA>      <NA>   \n",
            "5     <NA>           <NA>          <NA>      <NA>      <NA>      <NA>   \n",
            "6  0.00495           <NA>      0.004897  0.185049  0.327873 -0.061469   \n",
            "\n",
            "   corr_1260d  rmax5_21d  rmax5_rvol_21d     ni_be    ocf_at  ocf_at_chg1  \\\n",
            "0        <NA>       <NA>            <NA>      <NA>      <NA>         <NA>   \n",
            "1        <NA>       <NA>            <NA>      <NA>      <NA>         <NA>   \n",
            "2        <NA>       <NA>            <NA>      <NA>      <NA>         <NA>   \n",
            "3        <NA>       <NA>            <NA>      <NA>      <NA>         <NA>   \n",
            "4        <NA>       <NA>            <NA>      <NA>      <NA>         <NA>   \n",
            "5        <NA>       <NA>            <NA>   0.10603  0.038241    -0.008954   \n",
            "6        <NA>   0.025722            <NA>  0.153845  0.015131      0.00838   \n",
            "\n",
            "   mispricing_perf  mispricing_mgmt       qmj  qmj_prof  qmj_growth  \\\n",
            "0             <NA>             <NA>      <NA>      <NA>        <NA>   \n",
            "1             <NA>             <NA>      <NA>      <NA>        <NA>   \n",
            "2             <NA>             <NA>      <NA>      <NA>        <NA>   \n",
            "3             <NA>             <NA>      <NA>      <NA>        <NA>   \n",
            "4             <NA>             <NA>      <NA>      <NA>        <NA>   \n",
            "5             <NA>             <NA>      <NA>      <NA>        <NA>   \n",
            "6         0.589883         0.654105  1.302589  0.493021    0.701394   \n",
            "\n",
            "   qmj_safety  \n",
            "0        <NA>  \n",
            "1        <NA>  \n",
            "2        <NA>  \n",
            "3        <NA>  \n",
            "4        <NA>  \n",
            "5        <NA>  \n",
            "6    1.421142  \n"
          ]
        }
      ]
    },
    {
      "cell_type": "markdown",
      "metadata": {
        "id": "MU8OvXjZY7Sf"
      },
      "source": [
        "### **1. Data Cleaning & Transformation**  \n",
        "\n",
        "- Are there any missing values? If so, which five columns have the most missing data?\n",
        "\n",
        "- Are all variables numerical? If not, which non-numeric variables need transformation?  \n",
        "\n",
        "- Are there duplicate rows or duplicate stock entries for the same time period?  \n",
        "\n",
        "- Convert all categorical variables, if any, into numerical representations.  \n"
      ]
    },
    {
      "cell_type": "markdown",
      "metadata": {
        "id": "_IBLKgeDY7Sg"
      },
      "source": [
        "### **2. Descriptive Statistics & Distributions**  \n",
        "\n",
        "- What are the five variables with the highest variance?\n",
        "\n",
        "- What are the five most skewed financial variables?\n",
        "\n",
        "- Which five financial variables have the most extreme outliers (justify your reasoning)?  \n",
        "\n",
        "- Compute the kurtosis for all financial variables and list the five closest to a normal distribution.  "
      ]
    },
    {
      "cell_type": "markdown",
      "metadata": {
        "id": "8ENAgm_1Y7Sg"
      },
      "source": [
        "### **3. Correlation & Multicollinearity**\n",
        "\n",
        "- Compute pairwise correlations and identify the five most highly correlated variable pairs.\n",
        "\n",
        "- Calculate variance inflation factors (VIFs) and list the five variables most affected by multicollinearity."
      ]
    },
    {
      "cell_type": "markdown",
      "metadata": {
        "id": "Yrzr4a04Y7Sg"
      },
      "source": [
        "### **4. Time-Series Analysis**  \n",
        "\n",
        "- Which five financial variables exhibit the highest autocorrelation in the pooled dataset?  \n",
        "\n",
        "- Identify the five stocks with the most stable financial variables over the past 20 years. (Justify your assumptions)  \n",
        "\n",
        "- Detect any structural breaks: Do certain financial variables exhibit significant shifts over time? (Justify your reasoning)  \n",
        "\n",
        "- Compute rolling mean and rolling standard deviation for financial variables to check for trends. (Don't use the predefined rolling etc. functions. Be in total control of the rolling yourself!)  \n"
      ]
    },
    {
      "cell_type": "markdown",
      "metadata": {
        "id": "tDHb36LNY7Sg"
      },
      "source": [
        "### **5. Stock Performance**  \n",
        "\n",
        "- Compute cumulative returns for each stock and identify the top and bottom performers over the past 10 and 20 years.\n",
        "\n",
        "- Identify the five stocks with the most extreme positive and negative monthly returns in the last 10 years.  \n",
        "\n",
        "- Compute downside beta for each stock and list the five stocks most vulnerable to market downturns. (You don't need to run any regression)  \n",
        "\n",
        "- Identify the five stocks that recover the fastest after a major drawdown.  "
      ]
    },
    {
      "cell_type": "markdown",
      "metadata": {
        "id": "aa85kFagY7Sh"
      },
      "source": [
        "### **6. Ranking & Extremes**  \n",
        "\n",
        "- Identify the five companies with the highest/lowest earnings variability.\n",
        "\n",
        "- Identify the five most extreme stock return events.  \n",
        "\n",
        "- Find the five companies with the most extreme quarterly earnings surprises.  \n",
        "\n",
        "- Identify the five financial variables with the highest standard deviation.  \n",
        "\n",
        "- Rank companies based on financial persistence: Which five companies have the most consistent financial performance over time?  \n",
        "\n",
        "- Find the five companies whose financial variables are closest to the median in terms of volatility."
      ]
    },
    {
      "cell_type": "markdown",
      "metadata": {
        "id": "3h9znP2eY7Sh"
      },
      "source": [
        "### **7. Grouping & Aggregation**  \n",
        "\n",
        "- Which industry has the highest average return variance?  \n",
        "\n",
        "- Which five industries show the highest cross-sectional dispersion in financial variables?  \n",
        "\n",
        "- Compute monthly averages for financial variables and detect seasonal patterns.  "
      ]
    },
    {
      "cell_type": "markdown",
      "metadata": {
        "id": "8kIsY5qyY7Sh"
      },
      "source": [
        "## **2. Linear regressions**\n",
        "\n",
        "### **1. Sanity checks**\n",
        "\n",
        "- Now that we've played with stock characteristics, it is time to move to other tasks! Import the dataset (take care, not anything that is simple, it is necessarily easy :) )!\n",
        "\n",
        "- Column names are again mysterious: be a modern Sherlock Holmes and refer to your previous knowledge to solve the case.\n",
        "\n",
        "- Are there any duplicate entries for stocks in the same time period?  \n",
        "\n",
        "- Do all numerical columns contain valid values (e.g., no strings or special characters)?  \n",
        "\n",
        "- Are there any constant columns that provide no useful information?  \n",
        "\n",
        "- Are date formats consistent across the dataset?  \n",
        "\n",
        "- Are there extreme values that could affect regression results (e.g., highly skewed distributions)?  \n"
      ]
    },
    {
      "cell_type": "markdown",
      "metadata": {
        "id": "1vAYR3tmY7Sh"
      },
      "source": [
        "### **1. The first (?) regression**\n",
        "\n",
        "- Milestone finance research showed that Book-to-Market is useful to predict returns. Let's dig up a bit - show a scatter plot of Book-to-Market and returns.\n",
        "\n",
        "- Quite noisy, no? Let's try to run a linear regression! Is the coefficient significant?\n",
        "\n",
        "- How do we know that `sklean` does not fool us? Let's check these results with matrix calculus and the direct OLS formulas.\n",
        "\n",
        "- Can we make money with this strategy? (if you say yes, why you taking the class run run make those money!) Why not?\n",
        "\n",
        "- Try to run a simple market timing strategy with your model on a portfolio of five stocks. Do you manage to beat the market?"
      ]
    },
    {
      "cell_type": "markdown",
      "metadata": {
        "id": "cSMeCKzBY7Si"
      },
      "source": [
        "### **2. Testing the results**\n",
        "\n",
        "- Make the return predictions with `sklearn`.\n",
        "\n",
        "- Compare them with the actual formula (it might involve a bit of matrix calculus..)\n",
        "\n",
        "- Test now the accuracy of your model in an appropriate way.\n",
        "\n",
        "- Visualize in an efficient way the two distributions of the target variable.\n",
        "\n",
        "- How do the resisuals behave? What can we imply?"
      ]
    },
    {
      "cell_type": "markdown",
      "metadata": {
        "id": "FbZF783HY7Si"
      },
      "source": [
        "## **3. Ridge regressions**\n",
        "\n",
        "### **1. Basics**\n",
        "\n",
        "Once we understand linear regressions are just ridge regressions with null ridge penalty, we can leave this ''null penalty'' space safely and use this penalty :)\n",
        "\n",
        "- Now can control better the overfit, let's use the entire data to forecast returns with a ridge regression. What's the accuracy? Let's use MSE for now.\n",
        "\n",
        "- We suspect that `sklean` fool us? Let's check these results with matrix calculus and the direct ridge formulas.\n",
        "\n",
        "- What's the distribution of coefficients with a given regularization? How does it change when you vary it?\n",
        "\n",
        "- How does the accuracy change when you vary the shrinkage?\n",
        "\n",
        "- We have been using MSE so far. It is well known it has some issues. Which ones?\n",
        "\n",
        "- Are there any changes when you standardize the predictors?\n",
        "\n",
        "- Let's move to R2 as a metric to test our work. Repeat the analysis above, when appropriate, with this new metric.\n",
        "\n",
        "- Is the matrix inversion trick really faster than the usual formula? Measure it!"
      ]
    },
    {
      "cell_type": "markdown",
      "metadata": {
        "id": "VN86kgwZY7Si"
      },
      "source": [
        "### **2. Portfolio construction**\n",
        "\n",
        "(you can consider the last 25 years of data only)\n",
        "\n",
        "- Buil an equally weighted strategy using your predictions as portfolio weights.\n",
        "\n",
        "- How does a change in the shrinkage impact the portfolio returns?\n",
        "\n",
        "- Try to vary the number of predictors you use in the ridge model. What happens to the test metrics?\n",
        "\n",
        "- Does ridge regression perform differently for low-volatility vs. high-volatility stocks?"
      ]
    },
    {
      "cell_type": "markdown",
      "metadata": {
        "id": "wg7gDGc1Y7Sj"
      },
      "source": [
        "### **3. Cross-validation**\n",
        "\n",
        "- Try to tune the shrinkage in different (non overlapping) rolling windows. Does it vary? (Don't use the predefined rolling etc. functions. Be in total control of the rolling yourself!)\n",
        "\n",
        "- Does it vary when the rolling windows are overlapping?\n",
        "\n",
        "- Implement a nested cross-validation pipeline to carefully tune the hyperparameters and estimate the generalization performance."
      ]
    },
    {
      "cell_type": "markdown",
      "metadata": {
        "id": "LPd5LVxHY7Sk"
      },
      "source": [
        "## **4. Lasso regressions**\n",
        "\n",
        "### **1. Basics**\n",
        "\n",
        "Unlike ridge regressions, Lasso does not only shrink coefficients but effectively selects variables by setting coefficients for irrelevant variables to zero.\n",
        "\n",
        "- What's the distribution of coefficients with a given regularization? How does it change when you vary it?\n",
        "\n",
        "- How does the accuracy change when you vary the regularization?\n",
        "\n",
        "- Are there any changes when you standardize the predictors?\n",
        "\n",
        "- Let's move to R2 as a metric to test our work. Repeat the analysis above, when appropriate, with this new metric.\n",
        "\n",
        "- Find the predictors that the model has set to zero. Do they vary much when you vary regularization?\n",
        "\n",
        "- Do the predictors that the model decides to set to zero vary by industry?"
      ]
    },
    {
      "cell_type": "markdown",
      "metadata": {
        "id": "V2f_IV_9Y7Sk"
      },
      "source": [
        "### **2. Portfolio construction**\n",
        "\n",
        "(you can consider the last 25 years of data only)\n",
        "\n",
        "- Buil an equally weighted strategy using your predictions as portfolio weights.\n",
        "\n",
        "- How does a change in the regularization impact the portfolio returns?\n",
        "\n",
        "- Try to vary the number of predictors you use in the lasso model. What happens to the test metrics?\n",
        "\n",
        "- Does lasso regression perform differently for low-volatility vs. high-volatility stocks?"
      ]
    },
    {
      "cell_type": "markdown",
      "metadata": {
        "id": "ZgAYQTxDY7Sl"
      },
      "source": [
        "### **3. Cross-validation**\n",
        "\n",
        "- Try to tune the regularization in different (non overlapping) rolling windows. Does it vary? (Don't use the predefined rolling etc. functions. Be in total control of the rolling yourself!)\n",
        "\n",
        "- Does it vary when the rolling windows are overlapping?\n",
        "\n",
        "- Implement a nested cross-validation pipeline to carefully tune the hyperparameters and estimate the generalization performance."
      ]
    },
    {
      "cell_type": "markdown",
      "metadata": {
        "id": "YaZuRba6Y7Sl"
      },
      "source": [
        "## **5. Option Pricing**\n",
        "\n",
        "### 1. **Simulating Black-Scholes Model**  \n",
        "\n",
        "The **Black-Scholes model** (Black & Scholes, 1973) is a fundamental formula for pricing **European options**, assuming frictionless markets, no arbitrage, and constant volatility.\n",
        "\n",
        "- Write a function able to simulate option prices for call options for a grid of different combinations of inputs (Do not forget to set the random seed and to add the idiosyncratic value...)\n",
        "\n",
        "## **Black-Scholes Model Parameters**\n",
        "\n",
        "| Parameter | Symbol | Range | Step Size |\n",
        "|-----------|--------|--------|-----------|\n",
        "| Stock Price | **S** | 40 to 69 | 1 |\n",
        "| Strike Price | **K** | 25 to 90 | 1 |\n",
        "| Risk-Free Rate | **r** | 0.00 to 0.05 | 0.01 |\n",
        "| Time to Expiration | **T** | 0.2 to 2.0 | 0.1 |\n",
        "| Volatility | **σ** | 0.23 to 0.75 | 0.1 |\n",
        "\n",
        "- Split the data into training and test samples.\n",
        "\n",
        "- Scale the input to the model. (Careful :) )\n"
      ]
    },
    {
      "cell_type": "markdown",
      "metadata": {
        "id": "XIZ3aTijY7Sl"
      },
      "source": [
        "### 2. **Learning Black-Scholes Model**  \n",
        "\n",
        "- Start with a linear regression. What's its performance?\n",
        "\n",
        "- Try to perform an analysis with a lasso model. Is it able to generalize? (Justify the use of the metric)\n",
        "\n",
        "- Fit a ridge. How does it behave? (Justify the use of the metric)\n",
        "\n",
        "- Compare the perfomances of the three previous models in terms of moneyness of the option.\n",
        "\n",
        "- Compare the coefficients for the previous three models. Are there differences between them?\n",
        "\n",
        "- How could you make these models behave better?\n",
        "\n",
        "- Once you discover the trick, repeat the previous analysis (ie, fitting the three models and judging them)\n"
      ]
    },
    {
      "cell_type": "markdown",
      "metadata": {
        "id": "9A7vPhRAY7Sl"
      },
      "source": [
        "### 2. **Testing Black-Scholes Model**  \n",
        "\n",
        "- How does the residuals in the linear regression behave? What does it imply?\n",
        "\n",
        "- How are the parameters in the ridge regression varying when you vary regularization? And the accuracy?\n",
        "\n",
        "- How are the parameters in the lasso regression varying when you vary regularization? And the accuracy?\n",
        "\n",
        "- Are they different from the parameters estimated by the linear regression?\n",
        "\n",
        "- You are back to your DGP. We are living unstable times, you decide to adapt to it and simulate more unstable option prices. How do ridge's and lasso's accuracies react?\n"
      ]
    }
  ],
  "metadata": {
    "kernelspec": {
      "display_name": "myenv",
      "language": "python",
      "name": "python3"
    },
    "language_info": {
      "codemirror_mode": {
        "name": "ipython",
        "version": 3
      },
      "file_extension": ".py",
      "mimetype": "text/x-python",
      "name": "python",
      "nbconvert_exporter": "python",
      "pygments_lexer": "ipython3",
      "version": "3.11.9"
    },
    "colab": {
      "provenance": []
    }
  },
  "nbformat": 4,
  "nbformat_minor": 0
}